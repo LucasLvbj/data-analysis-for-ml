{
 "cells": [
  {
   "cell_type": "markdown",
   "metadata": {
    "slideshow": {
     "slide_type": "slide"
    }
   },
   "source": [
    "# Data science for Machine Learning\n",
    "## Topics from data science and data mining used in ML\n",
    "\n",
    "Mehrdad Yazdani <br>\n",
    "@crude2refined"
   ]
  },
  {
   "cell_type": "code",
   "execution_count": 1,
   "metadata": {
    "collapsed": true,
    "slideshow": {
     "slide_type": "skip"
    }
   },
   "outputs": [],
   "source": [
    "import pandas as pd\n",
    "import numpy as np\n",
    "\n",
    "import matplotlib.pyplot as plt\n",
    "import seaborn as sns\n",
    "\n",
    "\n",
    "from IPython.display import display, HTML, Image\n",
    "\n",
    "%matplotlib inline"
   ]
  },
  {
   "cell_type": "markdown",
   "metadata": {
    "slideshow": {
     "slide_type": "slide"
    }
   },
   "source": [
    "# Overview\n",
    "\n",
    "- What is machine learning? What are we going to cover in this class?\n",
    "\n",
    "\n",
    "- Linear binary classification models\n",
    "    - Naive Bayes classifier\n",
    "    - Logistic Regression\n",
    "  \n",
    "\n",
    "- Model evaluation and testing\n",
    "   - Training and test set set\n",
    "   - Cross validation \n",
    "   - Performance metrics"
   ]
  },
  {
   "cell_type": "markdown",
   "metadata": {
    "slideshow": {
     "slide_type": "slide"
    }
   },
   "source": [
    "# What is machine learning?\n",
    "\n",
    "- Algorithms that derive rules based on data\n",
    "- Closely related to statistics\n",
    "- Using a lot of linear algebra and optimization\n",
    "- Significant overlap between terms such as \"AI\" (as used in 2017), ML, data science, data mining, analytics\n",
    "- We expect data to be \"structured\" or made to be \"structured\"\n",
    "    - data should embedded in a vector space\n"
   ]
  },
  {
   "cell_type": "code",
   "execution_count": 2,
   "metadata": {
    "slideshow": {
     "slide_type": "slide"
    }
   },
   "outputs": [
    {
     "data": {
      "text/html": [
       "<img src=\"./imgs/Lecture-1/Data_Science_VD.png\">"
      ],
      "text/plain": [
       "<IPython.core.display.HTML object>"
      ]
     },
     "metadata": {},
     "output_type": "display_data"
    }
   ],
   "source": [
    "display(HTML('''<img src=\"./imgs/Lecture-1/Data_Science_VD.png\">'''))"
   ]
  },
  {
   "cell_type": "markdown",
   "metadata": {
    "slideshow": {
     "slide_type": "subslide"
    }
   },
   "source": [
    "# Intersection of different skills\n",
    "\n",
    "\n",
    "<img src=\"./imgs/Lecture-1/data-science-venn.jpg\">"
   ]
  },
  {
   "cell_type": "markdown",
   "metadata": {
    "slideshow": {
     "slide_type": "subslide"
    }
   },
   "source": [
    "# Intersection of different skills\n",
    "\n",
    "\n",
    "<img src=\"./imgs/Lecture-1/vd_overload.jpg\">"
   ]
  },
  {
   "cell_type": "markdown",
   "metadata": {
    "slideshow": {
     "slide_type": "subslide"
    }
   },
   "source": [
    "# Intersection of different skills\n",
    "\n",
    "\n",
    "<img src=\"./imgs/Lecture-1/VENN.png\">"
   ]
  },
  {
   "cell_type": "markdown",
   "metadata": {
    "slideshow": {
     "slide_type": "slide"
    }
   },
   "source": [
    "## Supervised vs. unsupervised learning\n",
    "\n",
    "- Supervised learning:\n",
    "    - Decision making\n",
    "    - Estimation, prediction\n",
    "    - Classification\n",
    "    - Outlier detection \n",
    "\n",
    "\n",
    "- Unsupervised learning:\n",
    "    - Summarization\n",
    "    - Compression\n",
    "    - Clustering\n",
    "    - Template matching\n",
    "    - Outlier detection or density estimation \n",
    "   \n",
    "   \n",
    "- Always ask: what type of problem are you trying to solve? \n",
    "\n",
    "- It is not unusual to use a combination of both methods to solve a specific problem."
   ]
  },
  {
   "cell_type": "markdown",
   "metadata": {
    "slideshow": {
     "slide_type": "slide"
    }
   },
   "source": [
    "# Classification vs Regression \n",
    "\n",
    "- Classification: when the \"decision\" we want to make is of categories \n",
    "    - Does a patient have cancer?\n",
    "    - Should a loan be given or not?\n",
    "    - Is this email spam or not?\n",
    "    \n",
    "    \n",
    "- Regression: when the \"decision\" we want to make is a continuous variable   \n",
    "    - How much is this house worth?\n",
    "    - How risky is this loan?\n",
    "    - What is this person's BMI?"
   ]
  },
  {
   "cell_type": "markdown",
   "metadata": {
    "slideshow": {
     "slide_type": "slide"
    }
   },
   "source": [
    "# Classification vs Regression\n",
    "\n",
    "<img src=\"./imgs/Lecture-1/ML-pipe.png\">\n",
    "\n",
    "- Can think of supervised learning as learning a \"black box\" that transforms the input to a desired output\n",
    "- Regression: the output $y \\in \\mathbb{R}$\n",
    "    - Usually can be generalized easily to multiple outputs $y \\in \\mathbb{R}^{m}$\n",
    "- Classification: the output is one of $m$ categories $y \\in \\{0, 1, \\ldots, m -1\\}$ \n",
    "\n",
    "\n",
    "- We can think of characterizing this black box as a function $f(x)$ that maps inputs from $x \\in \\mathbb{R}^{n}$ to outputs $y$ "
   ]
  },
  {
   "cell_type": "markdown",
   "metadata": {
    "slideshow": {
     "slide_type": "slide"
    }
   },
   "source": [
    "# Supervised learning pipeline: prepare, learn, and evaluate\n",
    "\n",
    "1. **Prepare** a dataset with lots of input and output examples: $\\{(x_{i}, y_{i}) : i = 1, \\ldots, N\\}$. A large potion of this step may be preparing the data so that $x_i \\in \\mathbb{R}^n$.\n",
    "2. **Learn** a model (that is, a function) that maps inputs $x$ to the outputs $y$. In other words, find  a function $f(\\cdot)$ based on the the input $x_i$ and output $y_i$ example pairs that you have so that $f(x) \\rightarrow y$. Learning is typically done as an optimization function that minimizes a loss function. \n",
    "3. **Evaluate**how accurate the model $f(x)$ is for *future* or unseen data\n",
    "\n",
    "\n",
    "- How do we get *future* data?"
   ]
  },
  {
   "cell_type": "markdown",
   "metadata": {
    "slideshow": {
     "slide_type": "slide"
    }
   },
   "source": [
    "# A hack solution to get unseen data\n",
    "\n",
    "- Split the data set randomly into 3 sets: training set, validation set, test set\n",
    "- Use the training and validation sets to build the model $f(x)$\n",
    "- Use the test set as a proxy for \"future\" or unseen data to test and measure the performance of $f(x)$\n",
    "    - Sometimes the training and validation sets are merged so we really have just two sets: training and test sets\n",
    "- There is no guarantee that the test set represents future data!\n",
    "\n",
    "<img src=\"./imgs/Lecture-1/train-val-test.png\">"
   ]
  },
  {
   "cell_type": "markdown",
   "metadata": {
    "slideshow": {
     "slide_type": "slide"
    }
   },
   "source": [
    "# k-fold cross validation\n",
    "\n",
    "- Some may be skeptical that a single split is not robust enough to capture all the variations that we may get in unseen data. \n",
    "- k-fold cross validation is a common method for testing capturing the variability of unseen data\n",
    "- Instead of relying on a single test set, we repeat the experiment k-times and are able to get performance bounds\n",
    "\n",
    "<img src=\"./imgs/Lecture-1/5-fold.png\">\n",
    "\n",
    "- We often perform *stratified* k-fold: we want each fold to have a similar distribution of targets as the original dataset"
   ]
  },
  {
   "cell_type": "markdown",
   "metadata": {
    "slideshow": {
     "slide_type": "slide"
    }
   },
   "source": [
    "# Data preparation \n",
    "\n",
    "- Data cleaning:\n",
    "    - Outliers\n",
    "    - Missing values\n",
    "    - Data scale (should data be strictly positive? does negative mean something different?)\n",
    "\n",
    "\n",
    "- Data embedding:\n",
    "    - How do we encode non-numeric data into a vector embedding?\n",
    "        - one-hot-encoding "
   ]
  },
  {
   "cell_type": "markdown",
   "metadata": {
    "slideshow": {
     "slide_type": "slide"
    }
   },
   "source": [
    "# Learning: finding a function that optimizes an objective function\n",
    "\n",
    "- Typically we want to find a function $f$ that maps between the inputs and outputs and optimizes over an objective function\n",
    "- A common objective function is the Expected loss:\n",
    "\n",
    "$$\\underset{f}{\\text{argmin}} \\int p(x,y) L(f(x), y) dx dy$$\n",
    "\n",
    "- In the case of classification the Expected loss could just be:\n",
    "\n",
    "$$ L(f(x), y) = \\left\\{\\begin{matrix}\n",
    "0 & \\text{if } f(x) = y \\\\ \n",
    "c & \\text{other wise}\n",
    "\\end{matrix}\\right. $$\n",
    "\n",
    "- For $c > 0$ this is called the \"0-1 loss\"\n",
    "- The engineer should design the loss function if assumptions of the problem changes"
   ]
  },
  {
   "cell_type": "markdown",
   "metadata": {
    "slideshow": {
     "slide_type": "slide"
    }
   },
   "source": [
    "# Binary classification example: activity vs. stationary recognition\n",
    "\n",
    "- A wearable device that takes sensor measurements on a time window is worn by several subjects\n",
    "- Video cameras monitor what the subjects are doing while wearing the device. Each frame in the camera has been \"tagged\" with the activity the user is engaged in\n",
    "- We want to build a classifier that predicts based on the sensor measurements if the user is active (moving) or idle (not moving, stationary, etc.)\n",
    "\n",
    "\n",
    "- Given a set of sensor measurements $x$, what is the activity $y$?\n",
    "\n",
    "\n",
    "- $ y \\in \\{\\text{active}, \\text{idle}\\}$\n",
    "- $ y \\in \\{0, 1\\}$\n",
    "\n",
    "\n"
   ]
  },
  {
   "cell_type": "code",
   "execution_count": 3,
   "metadata": {
    "slideshow": {
     "slide_type": "slide"
    }
   },
   "outputs": [
    {
     "data": {
      "text/html": [
       "<div>\n",
       "<style>\n",
       "    .dataframe thead tr:only-child th {\n",
       "        text-align: right;\n",
       "    }\n",
       "\n",
       "    .dataframe thead th {\n",
       "        text-align: left;\n",
       "    }\n",
       "\n",
       "    .dataframe tbody tr th {\n",
       "        vertical-align: top;\n",
       "    }\n",
       "</style>\n",
       "<table border=\"1\" class=\"dataframe\">\n",
       "  <thead>\n",
       "    <tr style=\"text-align: right;\">\n",
       "      <th></th>\n",
       "      <th>tBodyAcc-mean()-X</th>\n",
       "      <th>tBodyAcc-mean()-Y</th>\n",
       "      <th>tBodyAcc-mean()-Z</th>\n",
       "      <th>tBodyAcc-std()-X</th>\n",
       "      <th>tBodyAcc-std()-Y</th>\n",
       "      <th>tBodyAcc-std()-Z</th>\n",
       "      <th>tBodyAcc-mad()-X</th>\n",
       "      <th>tBodyAcc-mad()-Y</th>\n",
       "      <th>tBodyAcc-mad()-Z</th>\n",
       "      <th>tBodyAcc-max()-X</th>\n",
       "      <th>...</th>\n",
       "      <th>fBodyBodyGyroJerkMag-kurtosis()</th>\n",
       "      <th>angle(tBodyAccMean,gravity)</th>\n",
       "      <th>angle(tBodyAccJerkMean),gravityMean)</th>\n",
       "      <th>angle(tBodyGyroMean,gravityMean)</th>\n",
       "      <th>angle(tBodyGyroJerkMean,gravityMean)</th>\n",
       "      <th>angle(X,gravityMean)</th>\n",
       "      <th>angle(Y,gravityMean)</th>\n",
       "      <th>angle(Z,gravityMean)</th>\n",
       "      <th>subject</th>\n",
       "      <th>Activity</th>\n",
       "    </tr>\n",
       "  </thead>\n",
       "  <tbody>\n",
       "    <tr>\n",
       "      <th>0</th>\n",
       "      <td>0.288585</td>\n",
       "      <td>-0.020294</td>\n",
       "      <td>-0.132905</td>\n",
       "      <td>-0.995279</td>\n",
       "      <td>-0.983111</td>\n",
       "      <td>-0.913526</td>\n",
       "      <td>-0.995112</td>\n",
       "      <td>-0.983185</td>\n",
       "      <td>-0.923527</td>\n",
       "      <td>-0.934724</td>\n",
       "      <td>...</td>\n",
       "      <td>-0.710304</td>\n",
       "      <td>-0.112754</td>\n",
       "      <td>0.030400</td>\n",
       "      <td>-0.464761</td>\n",
       "      <td>-0.018446</td>\n",
       "      <td>-0.841247</td>\n",
       "      <td>0.179941</td>\n",
       "      <td>-0.058627</td>\n",
       "      <td>1</td>\n",
       "      <td>STANDING</td>\n",
       "    </tr>\n",
       "    <tr>\n",
       "      <th>1</th>\n",
       "      <td>0.278419</td>\n",
       "      <td>-0.016411</td>\n",
       "      <td>-0.123520</td>\n",
       "      <td>-0.998245</td>\n",
       "      <td>-0.975300</td>\n",
       "      <td>-0.960322</td>\n",
       "      <td>-0.998807</td>\n",
       "      <td>-0.974914</td>\n",
       "      <td>-0.957686</td>\n",
       "      <td>-0.943068</td>\n",
       "      <td>...</td>\n",
       "      <td>-0.861499</td>\n",
       "      <td>0.053477</td>\n",
       "      <td>-0.007435</td>\n",
       "      <td>-0.732626</td>\n",
       "      <td>0.703511</td>\n",
       "      <td>-0.844788</td>\n",
       "      <td>0.180289</td>\n",
       "      <td>-0.054317</td>\n",
       "      <td>1</td>\n",
       "      <td>STANDING</td>\n",
       "    </tr>\n",
       "    <tr>\n",
       "      <th>2</th>\n",
       "      <td>0.279653</td>\n",
       "      <td>-0.019467</td>\n",
       "      <td>-0.113462</td>\n",
       "      <td>-0.995380</td>\n",
       "      <td>-0.967187</td>\n",
       "      <td>-0.978944</td>\n",
       "      <td>-0.996520</td>\n",
       "      <td>-0.963668</td>\n",
       "      <td>-0.977469</td>\n",
       "      <td>-0.938692</td>\n",
       "      <td>...</td>\n",
       "      <td>-0.760104</td>\n",
       "      <td>-0.118559</td>\n",
       "      <td>0.177899</td>\n",
       "      <td>0.100699</td>\n",
       "      <td>0.808529</td>\n",
       "      <td>-0.848933</td>\n",
       "      <td>0.180637</td>\n",
       "      <td>-0.049118</td>\n",
       "      <td>1</td>\n",
       "      <td>STANDING</td>\n",
       "    </tr>\n",
       "    <tr>\n",
       "      <th>3</th>\n",
       "      <td>0.279174</td>\n",
       "      <td>-0.026201</td>\n",
       "      <td>-0.123283</td>\n",
       "      <td>-0.996091</td>\n",
       "      <td>-0.983403</td>\n",
       "      <td>-0.990675</td>\n",
       "      <td>-0.997099</td>\n",
       "      <td>-0.982750</td>\n",
       "      <td>-0.989302</td>\n",
       "      <td>-0.938692</td>\n",
       "      <td>...</td>\n",
       "      <td>-0.482845</td>\n",
       "      <td>-0.036788</td>\n",
       "      <td>-0.012892</td>\n",
       "      <td>0.640011</td>\n",
       "      <td>-0.485366</td>\n",
       "      <td>-0.848649</td>\n",
       "      <td>0.181935</td>\n",
       "      <td>-0.047663</td>\n",
       "      <td>1</td>\n",
       "      <td>STANDING</td>\n",
       "    </tr>\n",
       "    <tr>\n",
       "      <th>4</th>\n",
       "      <td>0.276629</td>\n",
       "      <td>-0.016570</td>\n",
       "      <td>-0.115362</td>\n",
       "      <td>-0.998139</td>\n",
       "      <td>-0.980817</td>\n",
       "      <td>-0.990482</td>\n",
       "      <td>-0.998321</td>\n",
       "      <td>-0.979672</td>\n",
       "      <td>-0.990441</td>\n",
       "      <td>-0.942469</td>\n",
       "      <td>...</td>\n",
       "      <td>-0.699205</td>\n",
       "      <td>0.123320</td>\n",
       "      <td>0.122542</td>\n",
       "      <td>0.693578</td>\n",
       "      <td>-0.615971</td>\n",
       "      <td>-0.847865</td>\n",
       "      <td>0.185151</td>\n",
       "      <td>-0.043892</td>\n",
       "      <td>1</td>\n",
       "      <td>STANDING</td>\n",
       "    </tr>\n",
       "  </tbody>\n",
       "</table>\n",
       "<p>5 rows × 563 columns</p>\n",
       "</div>"
      ],
      "text/plain": [
       "   tBodyAcc-mean()-X  tBodyAcc-mean()-Y  tBodyAcc-mean()-Z  tBodyAcc-std()-X  \\\n",
       "0           0.288585          -0.020294          -0.132905         -0.995279   \n",
       "1           0.278419          -0.016411          -0.123520         -0.998245   \n",
       "2           0.279653          -0.019467          -0.113462         -0.995380   \n",
       "3           0.279174          -0.026201          -0.123283         -0.996091   \n",
       "4           0.276629          -0.016570          -0.115362         -0.998139   \n",
       "\n",
       "   tBodyAcc-std()-Y  tBodyAcc-std()-Z  tBodyAcc-mad()-X  tBodyAcc-mad()-Y  \\\n",
       "0         -0.983111         -0.913526         -0.995112         -0.983185   \n",
       "1         -0.975300         -0.960322         -0.998807         -0.974914   \n",
       "2         -0.967187         -0.978944         -0.996520         -0.963668   \n",
       "3         -0.983403         -0.990675         -0.997099         -0.982750   \n",
       "4         -0.980817         -0.990482         -0.998321         -0.979672   \n",
       "\n",
       "   tBodyAcc-mad()-Z  tBodyAcc-max()-X    ...     \\\n",
       "0         -0.923527         -0.934724    ...      \n",
       "1         -0.957686         -0.943068    ...      \n",
       "2         -0.977469         -0.938692    ...      \n",
       "3         -0.989302         -0.938692    ...      \n",
       "4         -0.990441         -0.942469    ...      \n",
       "\n",
       "   fBodyBodyGyroJerkMag-kurtosis()  angle(tBodyAccMean,gravity)  \\\n",
       "0                        -0.710304                    -0.112754   \n",
       "1                        -0.861499                     0.053477   \n",
       "2                        -0.760104                    -0.118559   \n",
       "3                        -0.482845                    -0.036788   \n",
       "4                        -0.699205                     0.123320   \n",
       "\n",
       "   angle(tBodyAccJerkMean),gravityMean)  angle(tBodyGyroMean,gravityMean)  \\\n",
       "0                              0.030400                         -0.464761   \n",
       "1                             -0.007435                         -0.732626   \n",
       "2                              0.177899                          0.100699   \n",
       "3                             -0.012892                          0.640011   \n",
       "4                              0.122542                          0.693578   \n",
       "\n",
       "   angle(tBodyGyroJerkMean,gravityMean)  angle(X,gravityMean)  \\\n",
       "0                             -0.018446             -0.841247   \n",
       "1                              0.703511             -0.844788   \n",
       "2                              0.808529             -0.848933   \n",
       "3                             -0.485366             -0.848649   \n",
       "4                             -0.615971             -0.847865   \n",
       "\n",
       "   angle(Y,gravityMean)  angle(Z,gravityMean)  subject  Activity  \n",
       "0              0.179941             -0.058627        1  STANDING  \n",
       "1              0.180289             -0.054317        1  STANDING  \n",
       "2              0.180637             -0.049118        1  STANDING  \n",
       "3              0.181935             -0.047663        1  STANDING  \n",
       "4              0.185151             -0.043892        1  STANDING  \n",
       "\n",
       "[5 rows x 563 columns]"
      ]
     },
     "execution_count": 3,
     "metadata": {},
     "output_type": "execute_result"
    }
   ],
   "source": [
    "df = pd.read_csv(\"./data/trian-har.csv\")\n",
    "\n",
    "df.head()\n",
    "\n",
    "\n"
   ]
  },
  {
   "cell_type": "code",
   "execution_count": 4,
   "metadata": {
    "slideshow": {
     "slide_type": "slide"
    }
   },
   "outputs": [
    {
     "data": {
      "text/plain": [
       "Index(['tBodyAcc-mean()-X', 'tBodyAcc-mean()-Y', 'tBodyAcc-mean()-Z',\n",
       "       'tBodyAcc-std()-X', 'tBodyAcc-std()-Y', 'tBodyAcc-std()-Z',\n",
       "       'tBodyAcc-mad()-X', 'tBodyAcc-mad()-Y', 'tBodyAcc-mad()-Z',\n",
       "       'tBodyAcc-max()-X',\n",
       "       ...\n",
       "       'fBodyBodyGyroJerkMag-kurtosis()', 'angle(tBodyAccMean,gravity)',\n",
       "       'angle(tBodyAccJerkMean),gravityMean)',\n",
       "       'angle(tBodyGyroMean,gravityMean)',\n",
       "       'angle(tBodyGyroJerkMean,gravityMean)', 'angle(X,gravityMean)',\n",
       "       'angle(Y,gravityMean)', 'angle(Z,gravityMean)', 'subject', 'Activity'],\n",
       "      dtype='object', length=563)"
      ]
     },
     "execution_count": 4,
     "metadata": {},
     "output_type": "execute_result"
    }
   ],
   "source": [
    "df.columns"
   ]
  },
  {
   "cell_type": "code",
   "execution_count": 5,
   "metadata": {
    "slideshow": {
     "slide_type": "slide"
    }
   },
   "outputs": [
    {
     "name": "stdout",
     "output_type": "stream",
     "text": [
      "The shape of the data is (347, 563)\n",
      "\n",
      "The different activities in the data are:\n",
      "STANDING\n",
      "SITTING\n",
      "LAYING\n",
      "WALKING\n",
      "WALKING_DOWNSTAIRS\n",
      "WALKING_UPSTAIRS\n"
     ]
    }
   ],
   "source": [
    "df_subject = df[df.subject == 1]\n",
    "\n",
    "print(\"The shape of the data is\", df_subject.shape)\n",
    "\n",
    "print(\"\\nThe different activities in the data are:\")\n",
    "for a in  list(pd.unique(df_subject.Activity)):\n",
    "    print(a)"
   ]
  },
  {
   "cell_type": "code",
   "execution_count": 6,
   "metadata": {
    "slideshow": {
     "slide_type": "slide"
    }
   },
   "outputs": [
    {
     "data": {
      "image/png": "[encoded data removed]",
      "text/plain": [
       "<matplotlib.figure.Figure at 0x1b854b4ffd0>"
      ]
     },
     "metadata": {},
     "output_type": "display_data"
    }
   ],
   "source": [
    "data = np.array(df_subject.iloc[:,:-2])\n",
    "\n",
    "U, s, V = np.linalg.svd(data)\n",
    "plt.plot(s);"
   ]
  },
  {
   "cell_type": "code",
   "execution_count": 7,
   "metadata": {
    "slideshow": {
     "slide_type": "slide"
    }
   },
   "outputs": [
    {
     "data": {
      "text/plain": [
       "<seaborn.axisgrid.FacetGrid at 0x1b855314630>"
      ]
     },
     "execution_count": 7,
     "metadata": {},
     "output_type": "execute_result"
    },
    {
     "data": {
      "image/png": "[encoded data removed]",
      "text/plain": [
       "<matplotlib.figure.Figure at 0x1b855314780>"
      ]
     },
     "metadata": {},
     "output_type": "display_data"
    }
   ],
   "source": [
    "data_projected = pd.DataFrame(np.dot(V, data.T).T, columns= [\"p\" + str(i) for i in range(data.shape[1])])\n",
    "data_projected[\"Activity\"] = list(df_subject.Activity)\n",
    "\n",
    "\n",
    "\n",
    "sns.lmplot(x = \"p0\", y = \"p1\", hue = \"Activity\", fit_reg=False, legend=True, data = data_projected)"
   ]
  },
  {
   "cell_type": "code",
   "execution_count": 8,
   "metadata": {
    "slideshow": {
     "slide_type": "slide"
    }
   },
   "outputs": [
    {
     "name": "stderr",
     "output_type": "stream",
     "text": [
      "C:\\Anaconda4\\lib\\site-packages\\ipykernel_launcher.py:2: SettingWithCopyWarning: \n",
      "A value is trying to be set on a copy of a slice from a DataFrame\n",
      "\n",
      "See the caveats in the documentation: http://pandas.pydata.org/pandas-docs/stable/indexing.html#indexing-view-versus-copy\n",
      "  \n"
     ]
    },
    {
     "data": {
      "text/plain": [
       "<seaborn.axisgrid.FacetGrid at 0x1b85259d6a0>"
      ]
     },
     "execution_count": 8,
     "metadata": {},
     "output_type": "execute_result"
    },
    {
     "data": {
      "image/png": "[encoded data removed]",
      "text/plain": [
       "<matplotlib.figure.Figure at 0x1b854a5cef0>"
      ]
     },
     "metadata": {},
     "output_type": "display_data"
    }
   ],
   "source": [
    "data_projected[\"state\"] = \"not_active\"\n",
    "data_projected[\"state\"][data_projected[\"Activity\"].str.contains(\"WALKING\")] = \"active\"\n",
    "\n",
    "colors = [\"blue\", \"red\"]\n",
    "\n",
    "sns.lmplot(x = \"p0\", y = \"p1\", hue = \"state\", fit_reg=False, legend=True, data = data_projected, palette=sns.xkcd_palette(colors[0:2]))"
   ]
  },
  {
   "cell_type": "code",
   "execution_count": 9,
   "metadata": {
    "slideshow": {
     "slide_type": "slide"
    }
   },
   "outputs": [
    {
     "data": {
      "image/png": "[encoded data removed]",
      "text/plain": [
       "<matplotlib.figure.Figure at 0x1b8552b7e10>"
      ]
     },
     "metadata": {},
     "output_type": "display_data"
    }
   ],
   "source": [
    "sns.distplot( data_projected[\"p0\"][data_projected.state == \"active\" ], kde = False, color= \"red\", label=\"active\")\n",
    "sns.distplot( data_projected[\"p0\"][data_projected.state != \"active\" ], kde = False, color= \"blue\", label=\"Not Active\")\n",
    "plt.legend();"
   ]
  },
  {
   "cell_type": "markdown",
   "metadata": {
    "slideshow": {
     "slide_type": "slide"
    }
   },
   "source": [
    "# Likelihood ratio test:\n",
    "\n",
    "$$ \\frac{P(x | y = 1)}{P(x | y = 0)} = \\theta$$\n",
    "\n",
    "- If $\\theta > 1$ then we say class 1. Otherwise class 0\n",
    "\n"
   ]
  },
  {
   "cell_type": "markdown",
   "metadata": {
    "slideshow": {
     "slide_type": "slide"
    }
   },
   "source": [
    "# Log-Likelihood ratio test:\n",
    "\n",
    "\n",
    "- It is common to compute the *log* likelihood ratio test\n",
    "\n",
    "$$ \\text{log} \\frac{P(x | y = 1)}{P(x | y = 0)} = \\eta$$\n",
    "where $\\eta = \\text{log}(\\theta)$\n",
    "\n",
    "- Now we say if $\\eta > 0$, then we have class 1. Otherwise class 0"
   ]
  },
  {
   "cell_type": "markdown",
   "metadata": {
    "slideshow": {
     "slide_type": "slide"
    }
   },
   "source": [
    "# Single Variate Gaussian distribution \n",
    "\n",
    "$$ f(x) = \\frac{1}{\\sigma\\sqrt{2\\pi}}\\exp \\big( -\\dfrac{1}{2\\sigma^{2}} (x - \\mu)^{2} \\big)$$\n",
    "\n",
    "<img src=\"./imgs/Lecture-1/normal-pdf.png\">\n",
    "\n",
    "\n",
    "$\\mu = E[X]$\n",
    "\n",
    "$\\sigma^{2} = Var[X] \\triangleq E[\\left(X - E\\left(X\\right)\\right)^2]$\n",
    "\n",
    "\n",
    "$\\begin{align*}\n",
    "E[\\left(X - E[X]\\right)^2] &= E[X^2 -2E[X]X + E[X]^2]\\\\\n",
    "&= E[X^2] - 2E[X]E[X] + E[X]^2\\\\\n",
    "&= E[X^2] - E[X]^2\\\\\n",
    "\\end{align*}\n",
    "$\n",
    "\n"
   ]
  },
  {
   "cell_type": "code",
   "execution_count": 10,
   "metadata": {
    "collapsed": true,
    "slideshow": {
     "slide_type": "slide"
    }
   },
   "outputs": [],
   "source": [
    "from sklearn.model_selection import train_test_split\n",
    "\n",
    "X = np.array(data_projected.p0)\n",
    "y = np.zeros(X.shape[0])\n",
    "y[data_projected.state == \"active\"] = 1\n",
    "\n",
    "X_train, X_test, y_train, y_test = train_test_split(X, y, test_size=0.33, random_state=11)"
   ]
  },
  {
   "cell_type": "code",
   "execution_count": 11,
   "metadata": {
    "slideshow": {
     "slide_type": "slide"
    }
   },
   "outputs": [
    {
     "data": {
      "image/png": "[encoded data removed]",
      "text/plain": [
       "<matplotlib.figure.Figure at 0x1b85531e550>"
      ]
     },
     "metadata": {},
     "output_type": "display_data"
    }
   ],
   "source": [
    "plt.hist(X);"
   ]
  },
  {
   "cell_type": "code",
   "execution_count": 12,
   "metadata": {
    "collapsed": true,
    "slideshow": {
     "slide_type": "slide"
    }
   },
   "outputs": [],
   "source": [
    "\n",
    "## optimization process: MLE fit to single variate gaussian \n",
    "##\n",
    "## !warning! this method is *still* suffering from data \"leakage\" \n",
    "## \n",
    "mu_active = np.mean(X_train[y_train == 1])\n",
    "var_active = np.var(X_train[y_train == 1])\n",
    "\n",
    "mu_idle = np.mean(X_train[y_train == 0])\n",
    "var_idle = np.var(X_train[y_train == 0])\n",
    "\n",
    "def single_variate_normal_dist_decision(x, mu0, mu1, var0, var1):\n",
    "    dec = (x - mu0)**2/(2*var0) - (x - mu1)**2/(2*(var1)) + .5*np.log(var0/var1)\n",
    "    if dec > 0:\n",
    "        return 1\n",
    "    else:\n",
    "        return 0"
   ]
  },
  {
   "cell_type": "code",
   "execution_count": 13,
   "metadata": {
    "slideshow": {
     "slide_type": "slide"
    }
   },
   "outputs": [
    {
     "data": {
      "text/plain": [
       "-15.198187476241628"
      ]
     },
     "execution_count": 13,
     "metadata": {},
     "output_type": "execute_result"
    },
    {
     "data": {
      "image/png": "[encoded data removed]",
      "text/plain": [
       "<matplotlib.figure.Figure at 0x1b85613e710>"
      ]
     },
     "metadata": {},
     "output_type": "display_data"
    }
   ],
   "source": [
    "x = np.linspace(-20, -8, num = 200)\n",
    "y = np.zeros_like(x)\n",
    "for i in range(x.shape[0]):\n",
    "    y[i] = single_variate_normal_dist_decision(x[i], mu1=mu_active, mu0 = mu_idle, var0=var_idle, var1=var_active)\n",
    "\n",
    "\n",
    "plt.plot(x, y)\n",
    "\n",
    ".5*(mu_active+mu_idle)"
   ]
  },
  {
   "cell_type": "code",
   "execution_count": 14,
   "metadata": {
    "slideshow": {
     "slide_type": "slide"
    }
   },
   "outputs": [
    {
     "data": {
      "text/plain": [
       "-15.198187476241628"
      ]
     },
     "execution_count": 14,
     "metadata": {},
     "output_type": "execute_result"
    },
    {
     "data": {
      "image/png": "[encoded data removed]",
      "text/plain": [
       "<matplotlib.figure.Figure at 0x1b8561be0b8>"
      ]
     },
     "metadata": {},
     "output_type": "display_data"
    }
   ],
   "source": [
    "# increasing \"uncertainty\" in the positive class\n",
    "\n",
    "x = np.linspace(-20, -8, num = 200)\n",
    "y = np.zeros_like(x)\n",
    "for i in range(x.shape[0]):\n",
    "    y[i] = single_variate_normal_dist_decision(x[i], mu1=mu_active, mu0 = mu_idle, var0=var_idle, var1=10*var_active)\n",
    "\n",
    "\n",
    "plt.plot(x, y)\n",
    "\n",
    ".5*(mu_active+mu_idle)"
   ]
  },
  {
   "cell_type": "code",
   "execution_count": 15,
   "metadata": {
    "slideshow": {
     "slide_type": "slide"
    }
   },
   "outputs": [
    {
     "data": {
      "text/plain": [
       "0.97391304347826091"
      ]
     },
     "execution_count": 15,
     "metadata": {},
     "output_type": "execute_result"
    }
   ],
   "source": [
    "y_pred = np.zeros_like(y_test)\n",
    "\n",
    "for i in range(X_test.shape[0]):\n",
    "    y_pred[i] = single_variate_normal_dist_decision(X_test[i], mu1=mu_active, mu0 = mu_idle, var0=var_idle, var1=var_active)\n",
    "    \n",
    "np.mean(y_pred == y_test)    "
   ]
  },
  {
   "cell_type": "markdown",
   "metadata": {
    "slideshow": {
     "slide_type": "slide"
    }
   },
   "source": [
    "# Bayes' rule\n",
    "\n",
    "\n",
    "$$\n",
    "P_{Y|X}(y|x) = \\dfrac{P_{XY}(x,y)}{P_{X}(x)} = \\dfrac{P_{X|Y}(x|y)P_Y(y)}{\\sum_{y'}P_{X|Y}(x|y')P_Y(y')}.\n",
    "$$\n",
    "\n",
    "\n",
    "- Likelihood: $P_{X|Y}(x|y)$\n",
    "\n",
    "\n",
    "- Prior: $P_Y(y)$\n",
    "\n",
    "\n",
    "\n",
    "- Normalization/evidence: $P_{X}(x)$\n",
    "\n",
    "\n",
    "- Posterior: $P_{Y|X}(y|x)$\n",
    "\n",
    "\n",
    "\n",
    "\n"
   ]
  },
  {
   "cell_type": "markdown",
   "metadata": {
    "slideshow": {
     "slide_type": "slide"
    }
   },
   "source": [
    "# Bayesian Classifier\n",
    "\n",
    "- In the binary classifier what we really want to find is:\n",
    "\n",
    "$$p(y = 1 | x)$$\n",
    "$$p(y = 0 | x)$$\n",
    "\n",
    "\n",
    "- Computing these probabilities is usually very difficult, but using Bayes\n",
    "\n",
    "$$\n",
    "P(y = 1|x) = \\dfrac{P_{XY}(x,y)}{P_{X}(x)} = \\dfrac{P_{X|Y}(x|y)P_Y(y)}{\\sum_{y'}P_{X|Y}(x|y')P_Y(y')}.\n",
    "$$"
   ]
  },
  {
   "cell_type": "code",
   "execution_count": 16,
   "metadata": {
    "collapsed": true,
    "slideshow": {
     "slide_type": "slide"
    }
   },
   "outputs": [],
   "source": [
    "## optimization process: MLE fit to single variate gaussian \n",
    "##\n",
    "## !warning! this method is *still* suffering from data \"leakage\" \n",
    "## \n",
    "mu_active = np.mean(X_train[y_train == 1])\n",
    "var_active = np.var(X_train[y_train == 1])\n",
    "\n",
    "mu_idle = np.mean(X_train[y_train == 0])\n",
    "var_idle = np.var(X_train[y_train == 0])\n",
    "\n",
    "def single_variate_normal_dist_bayes_decision(x, mu0, mu1, var0, var1, pos_prob):\n",
    "    dec = (x - mu0)**2/(2*var0) - (x - mu1)**2/(2*(var1)) + .5*np.log(var0/var1) + np.log(pos_prob/(1-pos_prob))\n",
    "    if dec > 0:\n",
    "        return 1\n",
    "    else:\n",
    "        return 0    "
   ]
  },
  {
   "cell_type": "code",
   "execution_count": 17,
   "metadata": {
    "slideshow": {
     "slide_type": "slide"
    }
   },
   "outputs": [
    {
     "data": {
      "text/plain": [
       "0.5862068965517241"
      ]
     },
     "execution_count": 17,
     "metadata": {},
     "output_type": "execute_result"
    }
   ],
   "source": [
    "num_pos_train = len(y_train[y_train==1])\n",
    "pos_prob_train = num_pos_train/len(y_train) \n",
    "pos_prob_train"
   ]
  },
  {
   "cell_type": "code",
   "execution_count": 18,
   "metadata": {
    "slideshow": {
     "slide_type": "slide"
    }
   },
   "outputs": [
    {
     "data": {
      "text/plain": [
       "-15.198187476241628"
      ]
     },
     "execution_count": 18,
     "metadata": {},
     "output_type": "execute_result"
    },
    {
     "data": {
      "image/png": "[encoded data removed]",
      "text/plain": [
       "<matplotlib.figure.Figure at 0x1b85625a1d0>"
      ]
     },
     "metadata": {},
     "output_type": "display_data"
    }
   ],
   "source": [
    "x = np.linspace(-20, -8, num = 200)\n",
    "y = np.zeros_like(x)\n",
    "for i in range(x.shape[0]):\n",
    "    y[i] = single_variate_normal_dist_bayes_decision(x[i], mu1=mu_active, mu0 = mu_idle, \n",
    "                                                     var0=var_idle, var1=var_active, pos_prob = pos_prob_train)\n",
    "\n",
    "\n",
    "plt.plot(x, y)\n",
    "\n",
    ".5*(mu_active+mu_idle)"
   ]
  },
  {
   "cell_type": "code",
   "execution_count": 19,
   "metadata": {
    "slideshow": {
     "slide_type": "slide"
    }
   },
   "outputs": [
    {
     "data": {
      "text/plain": [
       "-15.198187476241628"
      ]
     },
     "execution_count": 19,
     "metadata": {},
     "output_type": "execute_result"
    },
    {
     "data": {
      "image/png": "[encoded data removed]",
      "text/plain": [
       "<matplotlib.figure.Figure at 0x1b8570e5cc0>"
      ]
     },
     "metadata": {},
     "output_type": "display_data"
    }
   ],
   "source": [
    "x = np.linspace(-20, -8, num = 200)\n",
    "y = np.zeros_like(x)\n",
    "for i in range(x.shape[0]):\n",
    "    y[i] = single_variate_normal_dist_bayes_decision(x[i], mu1=mu_active, mu0 = mu_idle, \n",
    "                                                     var0=var_idle, var1=var_active, pos_prob = .001*pos_prob_train)\n",
    "\n",
    "\n",
    "plt.plot(x, y)\n",
    "\n",
    ".5*(mu_active+mu_idle)"
   ]
  },
  {
   "cell_type": "code",
   "execution_count": 20,
   "metadata": {
    "slideshow": {
     "slide_type": "slide"
    }
   },
   "outputs": [
    {
     "data": {
      "text/plain": [
       "0.97391304347826091"
      ]
     },
     "execution_count": 20,
     "metadata": {},
     "output_type": "execute_result"
    }
   ],
   "source": [
    "y_pred = np.zeros_like(y_test)\n",
    "\n",
    "for i in range(X_test.shape[0]):\n",
    "    y_pred[i] = single_variate_normal_dist_bayes_decision(X_test[i], mu1=mu_active, mu0 = mu_idle, var0=var_idle, \n",
    "                                                          var1=var_active, pos_prob = pos_prob_train)\n",
    "    \n",
    "np.mean(y_pred == y_test)    "
   ]
  },
  {
   "cell_type": "markdown",
   "metadata": {
    "slideshow": {
     "slide_type": "slide"
    }
   },
   "source": [
    "# The multivariate Gaussian distribution\n",
    "\n",
    "<img src=\"./imgs/Lecture-1/MultivariateNormal.png\">\n",
    "\n",
    "$$\n",
    "f_{X_1,X_2,\\ldots,X_n}(x_1,x_2,\\ldots,x_n;\\mu, \\Sigma) = \\dfrac{1}{(2\\pi)^{n/2}|\\Sigma|^{1/2}}\\exp \\Bigg(-\\dfrac{1}{2}(x - \\mu)^T\\Sigma^{-1}(x - \\mu)\\Bigg).\n",
    "$$\n",
    "\n",
    "\n",
    "\n"
   ]
  },
  {
   "cell_type": "markdown",
   "metadata": {
    "slideshow": {
     "slide_type": "slide"
    }
   },
   "source": [
    "# Covariance\n",
    "\n",
    "$$\n",
    "\\begin{align*}\n",
    "Cov[X,Y] &= E[(X - E[X])(Y - E[Y])]\\\\\n",
    "&= E[XY - XE[Y] - YE[X] + E[X]E[Y]]\\\\\n",
    "&= E[XY] -E[X]E[Y] - E[Y]E[X] + E[X]E[Y]]\\\\\n",
    "&= E[XY] -E[X]E[Y].\n",
    "\\end{align*}\n",
    "$$\n",
    "\n",
    "- When $Cov[X,Y] = 0$, we say that $X$ and $Y$ are **uncorrelated**. \n",
    "- However, this is not the same thing as stating that $X$ and $Y$ are independent! \n",
    "- For example, if $X \\sim Uniform(-1,1)$ and $Y = X^2$, then one can show that $X$ and $Y$ are uncorrelated, even though they are not independent."
   ]
  },
  {
   "cell_type": "markdown",
   "metadata": {
    "slideshow": {
     "slide_type": "slide"
    }
   },
   "source": [
    "# Covariance matrix: \n",
    "\n",
    "For a given random vector $X: \\Omega \\rightarrow \\mathbb{R}^n$, its covariance matrix $\\Sigma$ is the $n\\times n$ square matrix whose entries are given by $\\Sigma_{ij} = Cov[X_i, X_j]$.\n",
    "\n",
    "\n",
    "From the definition of covariance, we have\n",
    "\n",
    "$$\n",
    "\\begin{align*}\n",
    "\\Sigma &= \\begin{bmatrix} Cov[X_1,X_1] & \\cdots & Cov[X_1,X_n]\\\\\n",
    "\\vdots & \\ddots & \\vdots\\\\\n",
    "Cov[X_n,X_1] & \\cdots & Cov[X_n,X_n] \\end{bmatrix}\\\\\n",
    "&= E[XX^T] - E[X]E[X]^T = \\ldots = E[(X - E[X])(X - E[X])^T].\n",
    "\\end{align*}\n",
    "$$\n",
    "\n",
    "where the matrix expectation is defined in the obvious way.\n",
    "\n",
    "The covariance matrix has a number of useful properties:\n",
    "\n",
    "\n",
    "- $\\Sigma \\succeq 0$; that is, $\\Sigma$ is positive semidefinite.\n",
    "- $\\Sigma = \\Sigma^T$; that is, $\\Sigma$ is symmetric.\n",
    "\n"
   ]
  },
  {
   "cell_type": "markdown",
   "metadata": {
    "slideshow": {
     "slide_type": "slide"
    }
   },
   "source": [
    "# Gausian Naive Bayes classifier\n",
    "\n",
    "- Computing the covariance matrix can be very expensive \n",
    "- The Naive Bayes classifier makes the assumption that all covariats are 0 - that is, all pairs of variables are uncorrelated \n",
    "- So we assume that all off -diagonal terms of the covariance matrix are 0 and only compute the diagonal terms: these are just the standard deviations\n",
    "\n",
    "$$\n",
    "\\begin{align*}\n",
    "\\Sigma &= \\begin{bmatrix} \\sigma_{1}^{2} & \\cdots & 0\\\\\n",
    "\\vdots & \\ddots & \\vdots\\\\\n",
    "0 & \\cdots & \\sigma_{n}^{2} \\end{bmatrix}\\\\\n",
    "\\end{align*}\n",
    "$$\n",
    "\n",
    "\n",
    "$$\n",
    "f_{X_1,X_2,\\ldots,X_n}(x_1,x_2,\\ldots,x_n;\\mu, \\Sigma) = \\dfrac{1}{(2\\pi)^{n/2}|\\Sigma|^{1/2}}\\exp \\Bigg(-\\dfrac{1}{2}(x - \\mu)^T\\Sigma^{-1}(x - \\mu)\\Bigg).\n",
    "$$\n",
    "\n",
    "\n"
   ]
  },
  {
   "cell_type": "code",
   "execution_count": 21,
   "metadata": {
    "slideshow": {
     "slide_type": "slide"
    }
   },
   "outputs": [
    {
     "data": {
      "text/plain": [
       "[<matplotlib.lines.Line2D at 0x1b8552fd978>]"
      ]
     },
     "execution_count": 21,
     "metadata": {},
     "output_type": "execute_result"
    },
    {
     "data": {
      "image/png": "[encoded data removed]",
      "text/plain": [
       "<matplotlib.figure.Figure at 0x1b84ecee898>"
      ]
     },
     "metadata": {},
     "output_type": "display_data"
    }
   ],
   "source": [
    "from sklearn.naive_bayes import GaussianNB\n",
    "\n",
    "gnb = GaussianNB()\n",
    "\n",
    "gnb.fit(X_train[:,np.newaxis], y_train)\n",
    "\n",
    "x = np.linspace(-20, -8, num = 200)\n",
    "x = x[:,np.newaxis]\n",
    "y = np.zeros_like(x)\n",
    "for i in range(x.shape[0]):\n",
    "    y[i] = gnb.predict(x[i,np.newaxis])\n",
    "\n",
    "\n",
    "plt.plot(x, y)\n",
    "\n",
    "#this should look identical to what we had before!"
   ]
  },
  {
   "cell_type": "code",
   "execution_count": 22,
   "metadata": {
    "slideshow": {
     "slide_type": "slide"
    }
   },
   "outputs": [
    {
     "data": {
      "text/plain": [
       "array([ 0.4137931,  0.5862069])"
      ]
     },
     "execution_count": 22,
     "metadata": {},
     "output_type": "execute_result"
    }
   ],
   "source": [
    "gnb.class_prior_"
   ]
  },
  {
   "cell_type": "code",
   "execution_count": 23,
   "metadata": {
    "scrolled": true,
    "slideshow": {
     "slide_type": "slide"
    }
   },
   "outputs": [
    {
     "name": "stdout",
     "output_type": "stream",
     "text": [
      "(232, 4)\n"
     ]
    }
   ],
   "source": [
    "X = np.array(data_projected.iloc[:,:4])\n",
    "y = np.zeros(X.shape[0])\n",
    "y[data_projected.state == \"active\"] = 1\n",
    "\n",
    "X_train, X_test, y_train, y_test = train_test_split(X, y, test_size=0.33, random_state=1)\n",
    "print(X_train.shape)"
   ]
  },
  {
   "cell_type": "code",
   "execution_count": 24,
   "metadata": {
    "slideshow": {
     "slide_type": "slide"
    }
   },
   "outputs": [
    {
     "data": {
      "text/plain": [
       "0.99130434782608701"
      ]
     },
     "execution_count": 24,
     "metadata": {},
     "output_type": "execute_result"
    }
   ],
   "source": [
    "gnb = GaussianNB()\n",
    "\n",
    "gnb.fit(X_train, y_train)\n",
    "\n",
    "y_pred = gnb.predict(X_test)\n",
    "\n",
    "np.mean(y_test == y_pred)"
   ]
  },
  {
   "cell_type": "markdown",
   "metadata": {
    "slideshow": {
     "slide_type": "slide"
    }
   },
   "source": [
    "# Logistic regression\n",
    "\n",
    "\n",
    "- Let's revisit the ratio test:\n",
    "\n",
    "$$ \\text{log} \\frac{P(y = 1 | x)}{P(y = 0 | x)} = \\eta$$\n",
    "\n",
    "- As before, if $\\eta > 0$, then we have class 1. Otherwise class 0 \n",
    "\n",
    "\n",
    "- We assumed so far that the probability model is from a Gaussian. But what we *directly* model the ratio test itself? \n",
    "\n",
    "\n",
    "- In logistic regression we assume that the log-likelihood ratio has a *linear* relationship to the features $x$. So if $x \\in \\mathbb{R}$\n",
    "\n",
    "$$ \\eta = w_{0} + w_{1}x$$\n",
    "\n",
    "- In logistic regression, we solve an optimization problem to find the best $w_0$ and $w_1$\n"
   ]
  },
  {
   "cell_type": "code",
   "execution_count": 25,
   "metadata": {
    "slideshow": {
     "slide_type": "slide"
    }
   },
   "outputs": [
    {
     "data": {
      "text/plain": [
       "1.0"
      ]
     },
     "execution_count": 25,
     "metadata": {},
     "output_type": "execute_result"
    }
   ],
   "source": [
    "## Logistic Regression\n",
    "\n",
    "from sklearn.linear_model import LogisticRegression\n",
    "\n",
    "LR = LogisticRegression()\n",
    "LR.fit(X_train, y_train)\n",
    "\n",
    "y_pred = LR.predict(X_test)\n",
    "\n",
    "np.mean(y_test == y_pred)"
   ]
  },
  {
   "cell_type": "markdown",
   "metadata": {
    "slideshow": {
     "slide_type": "slide"
    }
   },
   "source": [
    "# Cheating and issues with our methods!\n",
    "\n",
    "- Data leakage when computing the SVD on the *entire* data set: before splitting the data into train and test sets!\n",
    "\n",
    "\n",
    "- Is randomly selecting examples a good way of creating a traing set for our problem here?\n",
    "\n",
    "\n",
    "- Our model only works for *one* subject. What about other subjects? How transferrable is our model on other subjects?"
   ]
  },
  {
   "cell_type": "code",
   "execution_count": 26,
   "metadata": {
    "slideshow": {
     "slide_type": "slide"
    }
   },
   "outputs": [
    {
     "data": {
      "text/plain": [
       "0.97391304347826091"
      ]
     },
     "execution_count": 26,
     "metadata": {},
     "output_type": "execute_result"
    }
   ],
   "source": [
    "from sklearn.decomposition import TruncatedSVD\n",
    "from sklearn.pipeline import Pipeline\n",
    "\n",
    "\n",
    "svd_gnb = Pipeline([('svd', TruncatedSVD(n_components = 1)), \n",
    "                   ('gnb', GaussianNB())])\n",
    "\n",
    "X = data ## not using data_projected like before!\n",
    "y = np.zeros(X.shape[0])\n",
    "y[data_projected.state == \"active\"] = 1\n",
    "\n",
    "X_train, X_test, y_train, y_test = train_test_split(X, y, test_size=0.33, random_state=11)\n",
    "\n",
    "svd_gnb.fit(X_train, y_train);\n",
    "\n",
    "y_pred = svd_gnb.predict(X_test)\n",
    "\n",
    "np.mean(y_test == y_pred)"
   ]
  },
  {
   "cell_type": "markdown",
   "metadata": {
    "slideshow": {
     "slide_type": "slide"
    }
   },
   "source": [
    "# Evaluating binary classifiers: accuracy\n",
    "\n",
    "- Accuracy: the percentage of correct classifications\n",
    "    - Intuitively very easy to understand\n",
    "\n",
    "\n",
    "- Can be misleading if there is class imbalance:\n",
    "    - Example: less than 1% of credit card transactions are fraud. If you call all transactions as not fraud (that is, setting the threshold to 1 in the previous slide), then the accuracy is 99%!\n"
   ]
  },
  {
   "cell_type": "markdown",
   "metadata": {
    "slideshow": {
     "slide_type": "slide"
    }
   },
   "source": [
    "# Binary classifiers terminology \n",
    "\n",
    "\n",
    "- True positives: positive classifications that are really positives\n",
    "- False positives: positive classifications that are actually negatives\n",
    "- True negative: negative classifications that are really negatives\n",
    "- False negative: negative classifications that are actually positives\n",
    "\n",
    "<img src=\"./imgs/Lecture-1/tpfp.png\">"
   ]
  },
  {
   "cell_type": "markdown",
   "metadata": {
    "slideshow": {
     "slide_type": "slide"
    }
   },
   "source": [
    "# Precision and recall\n",
    "\n",
    "<center><img src=\"./imgs/Lecture-1/Precisionrecall.png\">\n",
    "</center>    "
   ]
  },
  {
   "cell_type": "markdown",
   "metadata": {
    "slideshow": {
     "slide_type": "slide"
    }
   },
   "source": [
    "# Precision and recall\n",
    "- Context: selecting a subset of credit transactions that might be fraudulent \n",
    "- **Precision**: of the transactions that I am investigating, how many are actually fraud and therefore won’t waste my time? \n",
    "\n",
    "- **Recall**: of the transactions that I am investigating, what fraud cases am I missing from by ignoring the remainder?\n",
    "\n",
    "<center>\n",
    "\n",
    "<img src=\"./imgs/Lecture-1/Precisionrecall-2.png\">\n",
    "</center>\n",
    "- High precision: saves you time from having to deal with lots of False Positives\n",
    "\n",
    "- High recall: ensures that you do not miss any instances of fraud\n"
   ]
  },
  {
   "cell_type": "markdown",
   "metadata": {
    "slideshow": {
     "slide_type": "slide"
    }
   },
   "source": [
    "# Precision and recall combined\n",
    "\n",
    "\n",
    "- Harmonin mean or **F1 score**: \n",
    "$$ F1 = 2\\frac{\\text{Precision}\\times\\text{Recall}}{\\text{Precision}+ \\text{Recall}}$$\n",
    "- Simple arithmetic average can be misleading.\n",
    "- It is easy to have a high recall (.99) and poor precision (.01) (this is usually not a good classifier). The simple average of this is 0.5, but the F1 score is more 0.0198"
   ]
  },
  {
   "cell_type": "markdown",
   "metadata": {
    "slideshow": {
     "slide_type": "slide"
    }
   },
   "source": [
    "# Precision-recall curve\n",
    "\n",
    "- Measure how precision varies as recall is improves\n",
    "\n",
    "<img src=\"./imgs/Lecture-1/prec-recall.png\">\n",
    "\n",
    "- **Average precision**: the area under the precision-recall curve"
   ]
  },
  {
   "cell_type": "code",
   "execution_count": 29,
   "metadata": {
    "slideshow": {
     "slide_type": "slide"
    }
   },
   "outputs": [
    {
     "data": {
      "image/png": "[encoded data removed]",
      "text/plain": [
       "<matplotlib.figure.Figure at 0x1b8555ff128>"
      ]
     },
     "metadata": {},
     "output_type": "display_data"
    }
   ],
   "source": [
    "## plotting precision recall curves wrapper\n",
    "from sklearn.metrics import precision_recall_curve\n",
    "\n",
    "def plot_precision_recall_curve(y_test, y_score, title = \"\"):\n",
    "    precision, recall, _ = precision_recall_curve(y_test, y_score)\n",
    "\n",
    "    plt.step(recall, precision, color='b', alpha=0.2,\n",
    "             where='post')\n",
    "    plt.fill_between(recall, precision, step='post', alpha=0.2,\n",
    "                     color='b')\n",
    "\n",
    "    plt.xlabel('Recall')\n",
    "    plt.ylabel('Precision')\n",
    "    plt.ylim([0.0, 1.05])\n",
    "    plt.xlim([0.0, 1.0])\n",
    "    plt.title(title)\n",
    "    \n",
    "plot_precision_recall_curve(y_test, svd_gnb.predict_proba(X_test)[:,1], \"PR\")    "
   ]
  },
  {
   "cell_type": "markdown",
   "metadata": {
    "slideshow": {
     "slide_type": "slide"
    }
   },
   "source": [
    "# Receiver Operating Characteristic (ROC) curve\n",
    "\n",
    "- True Positive Rate (aka Recall): True Positives over all positives $\\frac{TP}{P}= \\frac{FP}{TP + FN}$ \n",
    "- False Positive Rate: False Positives over all negative $\\frac{FP}{N}= \\frac{FP}{FP + N}$ \n",
    "\n",
    "<img src=\"./imgs/Lecture-1/random-auc.png\">\n",
    "\n",
    "- Area Under the ROC curve is referred to as AUC\n",
    "- Random classifier always has AUC = 0.5"
   ]
  },
  {
   "cell_type": "code",
   "execution_count": 28,
   "metadata": {
    "slideshow": {
     "slide_type": "slide"
    }
   },
   "outputs": [
    {
     "data": {
      "text/plain": [
       "Text(0.5,1,'ROC curve')"
      ]
     },
     "execution_count": 28,
     "metadata": {},
     "output_type": "execute_result"
    },
    {
     "data": {
      "image/png": "[encoded data removed]",
      "text/plain": [
       "<matplotlib.figure.Figure at 0x1a24f54470>"
      ]
     },
     "metadata": {},
     "output_type": "display_data"
    }
   ],
   "source": [
    "from sklearn.metrics import roc_auc_score, average_precision_score, roc_curve\n",
    "\n",
    "fpr, tpr, thresholds = roc_curve(y_test, svd_gnb.predict_proba(X_test)[:,1], pos_label=1)\n",
    "\n",
    "plt.plot(fpr, tpr)\n",
    "plt.plot([0,1], [0,1])\n",
    "plt.legend([\"Logistic classifier\", \"Random\"], loc = \"lower right\")\n",
    "plt.xlabel('False Positive Rate')\n",
    "plt.ylabel('True Positive Rate')\n",
    "plt.ylim([0.0, 1.05])\n",
    "plt.xlim([0.0, 1.0])\n",
    "plt.title(\"ROC curve\")"
   ]
  }
 ],
 "metadata": {
  "celltoolbar": "Slideshow",
  "kernelspec": {
   "display_name": "Python 3",
   "language": "python",
   "name": "python3"
  },
  "language_info": {
   "codemirror_mode": {
    "name": "ipython",
    "version": 3
   },
   "file_extension": ".py",
   "mimetype": "text/x-python",
   "name": "python",
   "nbconvert_exporter": "python",
   "pygments_lexer": "ipython3",
   "version": "3.6.1"
  }
 },
 "nbformat": 4,
 "nbformat_minor": 2
}
